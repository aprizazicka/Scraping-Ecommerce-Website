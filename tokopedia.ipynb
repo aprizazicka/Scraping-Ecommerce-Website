{
 "cells": [
  {
   "cell_type": "code",
   "execution_count": 1,
   "metadata": {},
   "outputs": [],
   "source": [
    "from selenium import webdriver\n",
    "import time\n",
    "from bs4 import BeautifulSoup\n",
    "import pandas as pd\n",
    "from selenium.webdriver.support.ui import WebDriverWait\n",
    "from selenium.webdriver.support import expected_conditions as EC\n",
    "from selenium.webdriver.common.by import By"
   ]
  },
  {
   "cell_type": "code",
   "execution_count": 2,
   "metadata": {},
   "outputs": [],
   "source": [
    "chrome_options = webdriver.ChromeOptions()\n",
    "chrome_driver_path = r\"D:\\python\\skripsi\\tokopedia\\chromedriver-win64\\chromedriver.exe\"\n",
    "\n",
    "# Membuat objek service dengan menentukan executable_path untuk konfigurasi path\n",
    "service = webdriver.chrome.service.Service(chrome_driver_path)\n",
    "url = \"https://www.tokopedia.com/search?st=product&q=indomie\"\n",
    "# Inisialisasi driver Chrome dengan objek service\n",
    "driver = webdriver.Chrome(service=service, options=chrome_options)\n",
    "driver.get(url)"
   ]
  },
  {
   "cell_type": "code",
   "execution_count": 3,
   "metadata": {},
   "outputs": [
    {
     "name": "stdout",
     "output_type": "stream",
     "text": [
      "                                           Nama Barang      Harga   \n",
      "0                        INDOMIE GORENG INSTAN 85 GRAM    Rp2.900  \\\n",
      "1                          INDOMIE AYAM BAWANG 69 GRAM    Rp2.800   \n",
      "2                            INDOMIE KARI AYAM 72 GRAM    Rp3.000   \n",
      "3                        Indomie Ayam Goreng per 5 PCS   Rp15.000   \n",
      "4                    INDOMIE MIE GORENG DUS ISI 40 PCS  Rp112.500   \n",
      "..                                                 ...        ...   \n",
      "99            Indomie Soto Lamongan Mie Instan 80 gram    Rp2.970   \n",
      "100                     INDOMIE MIE RASA SOTO MIE 70GR    Rp2.775   \n",
      "101               Chitato Rasa Indomie Mie Goreng 68 g    Rp9.800   \n",
      "102  Indomie Goreng HYpe Abis Chitato Rasa Sapi Pan...    Rp7.499   \n",
      "103                             INDOMIE GORENG CHITATO    Rp8.000   \n",
      "\n",
      "           Terjual Rating         Lokasi  \n",
      "0    10rb+ terjual    4.8  Jakarta Barat  \n",
      "1    10rb+ terjual    4.8  Jakarta Barat  \n",
      "2    10rb+ terjual    4.7  Jakarta Barat  \n",
      "3     250+ terjual    4.9        Bandung  \n",
      "4     2rb+ terjual    4.7  Jakarta Barat  \n",
      "..             ...    ...            ...  \n",
      "99   10rb+ terjual    5.0                 \n",
      "100  10rb+ terjual    5.0  Jakarta Utara  \n",
      "101   1rb+ terjual    5.0  Jakarta Utara  \n",
      "102      3 terjual         Jakarta Barat  \n",
      "103                        Jakarta Pusat  \n",
      "\n",
      "[104 rows x 5 columns]\n"
     ]
    }
   ],
   "source": [
    "data = []\n",
    "for i in range(1):\n",
    "    WebDriverWait(driver, 5).until(EC.presence_of_element_located((By.CSS_SELECTOR, \"#zeus-root\")))\n",
    "    # time.sleep(2)\n",
    "    for j in range(20):\n",
    "        driver.execute_script(\"window.scrollBy(0, 250)\")\n",
    "        time.sleep(1)\n",
    "    driver.execute_script(\"window.scrollBy(50, 0)\")\n",
    "    time.sleep(2)\n",
    "#parsing html\n",
    "    soup = BeautifulSoup(driver.page_source, \"html.parser\")\n",
    "#extracting data\n",
    "    for item in soup.findAll('div', class_='css-54k5sq'):\n",
    "        nama = item.find('div', class_='prd_link-product-name css-3um8ox')\n",
    "        if len(nama)>0:\n",
    "            nama = item.find('div', class_='prd_link-product-name css-3um8ox').text\n",
    "        else:\n",
    "            nama = ''\n",
    "        harga = item.find('div', class_='prd_link-product-price css-h66vau')\n",
    "        if len(harga)>0:\n",
    "            harga = item.find('div', class_='prd_link-product-price css-h66vau').text\n",
    "        else:\n",
    "            harga = ''\n",
    "\n",
    "        rating = item.findAll('span', class_='prd_rating-average-text css-t70v7i')\n",
    "        if len(rating)>0:\n",
    "            rating = item.find('span', class_='prd_rating-average-text css-t70v7i').text\n",
    "        else:\n",
    "            rating = ''\n",
    "        \n",
    "        terjual = item.findAll('span', class_='prd_label-integrity css-1sgek4h')\n",
    "        if len(terjual)>0:\n",
    "            terjual = item.find('span', class_='prd_label-integrity css-1sgek4h').text\n",
    "        else:\n",
    "            terjual = ''\n",
    "        \n",
    "        for item2 in item.findAll('div', class_='css-1rn0irl'):\n",
    "            lokasi = item2.find('span', class_='prd_link-shop-loc css-1kdc32b flip')\n",
    "            if lokasi is not None:\n",
    "                lokasi = item2.find('span', class_='prd_link-shop-loc css-1kdc32b flip').text\n",
    "            else:\n",
    "                lokasi = ''\n",
    "\n",
    "            data.append(\n",
    "                (nama, harga, terjual, rating, lokasi)\n",
    "            )\n",
    "    time.sleep(3)\n",
    "#find and push the next page button\n",
    "    driver.find_element(By.CSS_SELECTOR, \"button[aria-label^='Laman berikutnya']\").click()\n",
    "\n",
    "    time.sleep(5)\n",
    "#save to dataframe\n",
    "df = pd.DataFrame(data, columns=[\"Nama Barang\", \"Harga\", \"Terjual\", \"Rating\", \"Lokasi\"])\n",
    "print(df)\n",
    "driver.close()"
   ]
  },
  {
   "cell_type": "code",
   "execution_count": 51,
   "metadata": {},
   "outputs": [
    {
     "name": "stdout",
     "output_type": "stream",
     "text": [
      "                                           Nama Barang      Harga   \n",
      "0                             INDOMIE MIE GORENG 5 PCS   Rp14.500  \\\n",
      "1                  Indomie mie goreng rasa mie goreng     Rp2.925   \n",
      "2                          INDOMIE GORENG INSTAN 1 DUS  Rp112.500   \n",
      "3                               INDOMIE SOTO MIE 5 PCS   Rp13.500   \n",
      "4                              INDOMIE KARI AYAM 5 PCS   Rp14.500   \n",
      "..                                                 ...        ...   \n",
      "99   Paket Bundling Indomie Mie Instant Rasa Soto P...   Rp12.200   \n",
      "100           Indomie Soto Lamongan Mie Instan 80 gram    Rp2.970   \n",
      "101               Chitato Rasa Indomie Mie Goreng 68 g    Rp9.800   \n",
      "102  Indomie Goreng HYpe Abis Chitato Rasa Sapi Pan...    Rp7.499   \n",
      "103                       Chitato Indomie Goreng 68 Gr   Rp10.600   \n",
      "\n",
      "           Terjual Rating              Lokasi  \n",
      "0     750+ terjual    4.7       Jakarta Barat  \n",
      "1     250+ terjual    5.0         Kab. Bekasi  \n",
      "2     750+ terjual    4.7       Jakarta Barat  \n",
      "3     500+ terjual    4.8       Jakarta Barat  \n",
      "4     250+ terjual    4.9       Jakarta Barat  \n",
      "..             ...    ...                 ...  \n",
      "99    8rb+ terjual    4.9           Tangerang  \n",
      "100  10rb+ terjual    5.0                      \n",
      "101   1rb+ terjual    5.0       Jakarta Utara  \n",
      "102      3 terjual              Jakarta Barat  \n",
      "103   500+ terjual    5.0  Dilayani Tokopedia  \n",
      "\n",
      "[104 rows x 5 columns]\n"
     ]
    }
   ],
   "source": [
    "data = []\n",
    "for i in range(1):\n",
    "    WebDriverWait(driver, 5).until(EC.presence_of_element_located((By.CSS_SELECTOR, \"#zeus-root\")))\n",
    "    # time.sleep(2)\n",
    "    for j in range(20):\n",
    "        driver.execute_script(\"window.scrollBy(0, 250)\")\n",
    "        time.sleep(1)\n",
    "    # driver.execute_script(\"window.scrollBy(50, 0)\")\n",
    "    time.sleep(2)\n",
    "#parsing html\n",
    "    soup = BeautifulSoup(driver.page_source, \"html.parser\")\n",
    "#extracting data\n",
    "    for item in soup.findAll('div', class_='css-54k5sq'):\n",
    "        nama = item.find('div', class_='prd_link-product-name css-3um8ox').text\n",
    "        harga = item.find('div', class_='prd_link-product-price css-h66vau').text\n",
    "\n",
    "        rtg = item.findAll('span', class_='prd_rating-average-text css-t70v7i')\n",
    "        if len(rtg)>0:\n",
    "            rating = item.find('span', class_='prd_rating-average-text css-t70v7i').text\n",
    "        else:\n",
    "            rating = ''\n",
    "        \n",
    "        tjl = item.findAll('span', class_='prd_label-integrity css-1sgek4h')\n",
    "        if len(tjl)>0:\n",
    "            terjual = item.find('span', class_='prd_label-integrity css-1sgek4h').text\n",
    "        else:\n",
    "            terjual = ''\n",
    "        \n",
    "        for item2 in item.findAll('div', class_='css-1rn0irl'):\n",
    "            lokasi = item2.find('span', class_='prd_link-shop-loc css-1kdc32b flip')\n",
    "            if lokasi is not None:\n",
    "                lokasi = item2.find('span', class_='prd_link-shop-loc css-1kdc32b flip').text\n",
    "            else:\n",
    "                lokasi = ''\n",
    "\n",
    "            data.append(\n",
    "                (nama, harga, terjual, rating, lokasi)\n",
    "            )\n",
    "    time.sleep(3)\n",
    "#find and push the next page button\n",
    "    driver.find_element(By.CSS_SELECTOR, \"button[aria-label^='Laman berikutnya']\").click()\n",
    "\n",
    "    time.sleep(5)\n",
    "#save to dataframe\n",
    "df = pd.DataFrame(data, columns=[\"Nama Barang\", \"Harga\", \"Terjual\", \"Rating\", \"Lokasi\"])\n",
    "print(df)\n",
    "driver.close()"
   ]
  },
  {
   "cell_type": "code",
   "execution_count": 48,
   "metadata": {},
   "outputs": [
    {
     "data": {
      "text/plain": [
       "Nama Barang    116\n",
       "Harga          116\n",
       "Terjual        116\n",
       "Rating         116\n",
       "Lokasi         116\n",
       "dtype: int64"
      ]
     },
     "execution_count": 48,
     "metadata": {},
     "output_type": "execute_result"
    }
   ],
   "source": [
    "df.count()"
   ]
  },
  {
   "cell_type": "code",
   "execution_count": 46,
   "metadata": {},
   "outputs": [
    {
     "data": {
      "text/plain": [
       "18"
      ]
     },
     "execution_count": 46,
     "metadata": {},
     "output_type": "execute_result"
    }
   ],
   "source": [
    "df.duplicated().sum()"
   ]
  },
  {
   "cell_type": "code",
   "execution_count": 4,
   "metadata": {},
   "outputs": [],
   "source": [
    "df[\"Label\"] = \"yes\""
   ]
  },
  {
   "cell_type": "code",
   "execution_count": 7,
   "metadata": {},
   "outputs": [
    {
     "data": {
      "text/html": [
       "<div>\n",
       "<style scoped>\n",
       "    .dataframe tbody tr th:only-of-type {\n",
       "        vertical-align: middle;\n",
       "    }\n",
       "\n",
       "    .dataframe tbody tr th {\n",
       "        vertical-align: top;\n",
       "    }\n",
       "\n",
       "    .dataframe thead th {\n",
       "        text-align: right;\n",
       "    }\n",
       "</style>\n",
       "<table border=\"1\" class=\"dataframe\">\n",
       "  <thead>\n",
       "    <tr style=\"text-align: right;\">\n",
       "      <th></th>\n",
       "      <th>Nama Barang</th>\n",
       "      <th>Harga</th>\n",
       "      <th>Terjual</th>\n",
       "      <th>Rating</th>\n",
       "      <th>Lokasi</th>\n",
       "      <th>Label</th>\n",
       "    </tr>\n",
       "  </thead>\n",
       "  <tbody>\n",
       "    <tr>\n",
       "      <th>0</th>\n",
       "      <td>PERMEN SUSU KELINCI / PERMEN SUSU WHITE RABBIT...</td>\n",
       "      <td>Rp34.999</td>\n",
       "      <td>Terjual 100+</td>\n",
       "      <td>4.9</td>\n",
       "      <td>Jakarta Barat</td>\n",
       "      <td>no</td>\n",
       "    </tr>\n",
       "    <tr>\n",
       "      <th>1</th>\n",
       "      <td>White Rabbit Creamy Milk Candy / Permen Kelinc...</td>\n",
       "      <td>Rp35.000</td>\n",
       "      <td>Terjual 50+</td>\n",
       "      <td>5.0</td>\n",
       "      <td>Surabaya</td>\n",
       "      <td>no</td>\n",
       "    </tr>\n",
       "    <tr>\n",
       "      <th>2</th>\n",
       "      <td>permen susu kelinci atau rabbit berat 500gr</td>\n",
       "      <td>Rp100.000</td>\n",
       "      <td>Terjual 28</td>\n",
       "      <td>5.0</td>\n",
       "      <td>Jakarta Barat</td>\n",
       "      <td>no</td>\n",
       "    </tr>\n",
       "    <tr>\n",
       "      <th>3</th>\n",
       "      <td>Permen Susu Kelinci (White Rabbit Candy 白兔糖) 400g</td>\n",
       "      <td>Rp110.000</td>\n",
       "      <td>Terjual 14</td>\n",
       "      <td>5.0</td>\n",
       "      <td>Jakarta Barat</td>\n",
       "      <td>no</td>\n",
       "    </tr>\n",
       "    <tr>\n",
       "      <th>4</th>\n",
       "      <td>Permen Susu Kelinci (White Rabbit Candy 白兔糖) 4...</td>\n",
       "      <td>Rp110.000</td>\n",
       "      <td>Terjual 9</td>\n",
       "      <td>5.0</td>\n",
       "      <td>Tanjung Pinang</td>\n",
       "      <td>no</td>\n",
       "    </tr>\n",
       "  </tbody>\n",
       "</table>\n",
       "</div>"
      ],
      "text/plain": [
       "                                         Nama Barang      Harga       Terjual   \n",
       "0  PERMEN SUSU KELINCI / PERMEN SUSU WHITE RABBIT...   Rp34.999  Terjual 100+  \\\n",
       "1  White Rabbit Creamy Milk Candy / Permen Kelinc...   Rp35.000   Terjual 50+   \n",
       "2        permen susu kelinci atau rabbit berat 500gr  Rp100.000    Terjual 28   \n",
       "3  Permen Susu Kelinci (White Rabbit Candy 白兔糖) 400g  Rp110.000    Terjual 14   \n",
       "4  Permen Susu Kelinci (White Rabbit Candy 白兔糖) 4...  Rp110.000     Terjual 9   \n",
       "\n",
       "  Rating          Lokasi Label  \n",
       "0    4.9   Jakarta Barat    no  \n",
       "1    5.0        Surabaya    no  \n",
       "2    5.0   Jakarta Barat    no  \n",
       "3    5.0   Jakarta Barat    no  \n",
       "4    5.0  Tanjung Pinang    no  "
      ]
     },
     "execution_count": 7,
     "metadata": {},
     "output_type": "execute_result"
    }
   ],
   "source": [
    "df.head()"
   ]
  },
  {
   "cell_type": "code",
   "execution_count": 8,
   "metadata": {},
   "outputs": [],
   "source": [
    "with open('tokopedia_fix.csv', 'a',  newline='', encoding='utf-8') as f:\n",
    "    df.to_csv(f, header=False)"
   ]
  }
 ],
 "metadata": {
  "kernelspec": {
   "display_name": "Python 3",
   "language": "python",
   "name": "python3"
  },
  "language_info": {
   "codemirror_mode": {
    "name": "ipython",
    "version": 3
   },
   "file_extension": ".py",
   "mimetype": "text/x-python",
   "name": "python",
   "nbconvert_exporter": "python",
   "pygments_lexer": "ipython3",
   "version": "3.8.10"
  },
  "orig_nbformat": 4
 },
 "nbformat": 4,
 "nbformat_minor": 2
}
